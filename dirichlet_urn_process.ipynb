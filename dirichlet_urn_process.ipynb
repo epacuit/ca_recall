{
 "cells": [
  {
   "cell_type": "markdown",
   "id": "38ca16f9",
   "metadata": {},
   "source": [
    "# Implementation of the Urn Process Described in Box 1 of the Paper"
   ]
  },
  {
   "cell_type": "markdown",
   "id": "685fbfa9",
   "metadata": {},
   "source": []
  },
  {
   "cell_type": "code",
   "execution_count": 4,
   "id": "e4a7499d",
   "metadata": {},
   "outputs": [],
   "source": [
    "import numpy as np\n",
    "import matplotlib.pyplot as plt\n",
    "from tqdm.notebook import tqdm"
   ]
  },
  {
   "cell_type": "code",
   "execution_count": 5,
   "id": "bf9d7868",
   "metadata": {},
   "outputs": [
    {
     "name": "stdout",
     "output_type": "stream",
     "text": [
      "{'red': 53596, 'blue': 3442, 'green': 42965}\n",
      "proportions  {'red': 0.5359439216823495, 'blue': 0.03441896743097707, 'green': 0.4296371108866734}\n"
     ]
    },
    {
     "data": {
      "application/vnd.jupyter.widget-view+json": {
       "model_id": "c83a086fe6da4173b3603ee42964ea91",
       "version_major": 2,
       "version_minor": 0
      },
      "text/plain": [
       "  0%|          | 0/10 [00:00<?, ?it/s]"
      ]
     },
     "metadata": {},
     "output_type": "display_data"
    },
    {
     "name": "stdout",
     "output_type": "stream",
     "text": [
      "[[0.57382279 0.03231903 0.39385818]\n",
      " [0.75398738 0.03247903 0.21353359]\n",
      " [0.05607832 0.68903933 0.25488235]\n",
      " [0.02837915 0.68551943 0.28610142]\n",
      " [0.01239963 0.81158565 0.17601472]\n",
      " [0.04206874 0.70487885 0.25305241]\n",
      " [0.21351359 0.61413158 0.17235483]\n",
      " [0.1133966  0.16304511 0.72355829]\n",
      " [0.7866864  0.14139576 0.07191784]\n",
      " [0.1167565  0.1634251  0.71981841]]\n"
     ]
    }
   ],
   "source": [
    "def draw_ball(urn):\n",
    "    total_balls = sum(urn.values())\n",
    "    prob = {color: count / total_balls for color, count in urn.items()}\n",
    "    return np.random.choice(list(urn.keys()), p=list(prob.values()))\n",
    "\n",
    "def add_ball(urn, color):\n",
    "    urn[color] += 1\n",
    "\n",
    "def urn_process(urn, num_trials): \n",
    "    for _ in range(num_trials): \n",
    "        color = draw_ball(urn)\n",
    "        add_ball(urn, color)\n",
    "    return urn\n",
    "\n",
    "urn = {\n",
    "    \"red\": 1,\n",
    "    \"blue\": 1,\n",
    "    \"green\": 1\n",
    "}\n",
    "\n",
    "def urn_sample(alpha, num_samples): \n",
    "    samples = []\n",
    "    for _ in tqdm(range(num_samples)): \n",
    "        urn = {\n",
    "            \"red\": alpha[0],    \n",
    "            \"blue\": alpha[1],\n",
    "            \"green\": alpha[2]\n",
    "        }\n",
    "        urn_process(urn, 100_000)\n",
    "        total = sum(urn.values())\n",
    "        samples.append((urn[\"red\"]/total, urn[\"blue\"]/total, urn[\"green\"]/total))\n",
    "    return np.array(samples)\n",
    "print(urn_process(urn, 100_000))\n",
    "\n",
    "total = sum(urn.values())\n",
    "print(\"proportions \", {color: count / total for color, count in urn.items()})\n",
    "\n",
    "samples = urn_sample([1, 1, 1], 10)\n",
    "print(samples)"
   ]
  },
  {
   "cell_type": "code",
   "execution_count": null,
   "id": "10d3cb45",
   "metadata": {},
   "outputs": [],
   "source": []
  }
 ],
 "metadata": {
  "kernelspec": {
   "display_name": "Python 3",
   "language": "python",
   "name": "python3"
  },
  "language_info": {
   "codemirror_mode": {
    "name": "ipython",
    "version": 3
   },
   "file_extension": ".py",
   "mimetype": "text/x-python",
   "name": "python",
   "nbconvert_exporter": "python",
   "pygments_lexer": "ipython3",
   "version": "3.11.6"
  }
 },
 "nbformat": 4,
 "nbformat_minor": 5
}
